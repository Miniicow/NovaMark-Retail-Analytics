{
 "cells": [
  {
   "cell_type": "code",
   "execution_count": 6,
   "metadata": {},
   "outputs": [
    {
     "name": "stdout",
     "output_type": "stream",
     "text": [
      "Datos generados y guardados en facturacion_generada.csv y detalle_venta_generada.csv.\n"
     ]
    }
   ],
   "source": [
    "import pandas as pd\n",
    "import random\n",
    "from datetime import datetime, timedelta\n",
    "\n",
    "# Cargar datasets\n",
    "# Asegúrate de reemplazar las rutas con las correctas para tus archivos\n",
    "empleados = pd.read_csv(\"data/empleado.csv\", encoding=\"latin1\", delimiter=\";\")  # ID_Empleado, Nombre, ID_Sucursal\n",
    "productos = pd.read_csv(\"data/productos.csv\", encoding=\"latin1\", delimiter=\";\")  # ID_Producto, Nombre, Descripcion, Marca, Subcategoria, Etiquetas, Precio_Unitario\n",
    "clientes = pd.read_csv(\"data/clientes_csv.csv\", encoding=\"latin1\", delimiter=\";\")    # ID_Cliente, Nombre, etc.\n",
    "\n",
    "# Filtrar empleados de la sucursal con ID_Sucursal = 3\n",
    "empleados_sucursal_3 = empleados[empleados[\"ID_Sucursal\"] == 3]\n",
    "\n",
    "# Verificar que haya empleados en la sucursal\n",
    "if empleados_sucursal_3.empty:\n",
    "    print(\"No hay empleados en la sucursal con ID_Sucursal = 3.\")\n",
    "else:\n",
    "    # Crear nuevos datos para Facturación y Detalle de Venta\n",
    "    facturacion_data = []\n",
    "    detalle_venta_data = []\n",
    "\n",
    "    for _ in range(20):  # Generar 20 registros como ejemplo\n",
    "        empleado = empleados_sucursal_3.sample().iloc[0]  # Seleccionar un empleado aleatoriamente\n",
    "        cliente = clientes.sample().iloc[0]              # Seleccionar un cliente aleatoriamente\n",
    "\n",
    "        # Crear factura\n",
    "        id_factura = random.randint(10000, 99999)\n",
    "        metodo_pago = random.choice([\"Efectivo\", \"Tarjeta\", \"Transferencia\"])\n",
    "        fecha_facturacion = datetime.now() - timedelta(days=random.randint(1, 365))\n",
    "\n",
    "        # Crear detalle de venta\n",
    "        num_productos = random.randint(1, 5)  # Número de productos en la factura\n",
    "        precio_total = 0\n",
    "\n",
    "        for _ in range(num_productos):\n",
    "            producto = productos.sample().iloc[0]  # Seleccionar un producto aleatoriamente\n",
    "            cantidad_vendida = random.randint(1, 10)\n",
    "            precio_unitario = producto[\"Precio_Unitario\"]\n",
    "            precio_total += precio_unitario * cantidad_vendida\n",
    "\n",
    "            detalle_venta_data.append({\n",
    "                \"ID_Detalle\": random.randint(100000, 999999),\n",
    "                \"ID_Factura\": id_factura,\n",
    "                \"ID_Producto\": producto[\"ID_Producto\"],\n",
    "                \"Cantidad_Vendida\": cantidad_vendida,\n",
    "                \"Precio_Unitario\": precio_unitario\n",
    "            })\n",
    "\n",
    "        facturacion_data.append({\n",
    "            \"ID_Factura\": id_factura,\n",
    "            \"ID_Empleado\": empleado[\"ID_Empleado\"],\n",
    "            \"ID_Cliente\": cliente[\"ID_Cliente\"],\n",
    "            \"Precio_Total\": precio_total,\n",
    "            \"Fecha_Facturacion\": fecha_facturacion.strftime(\"%Y-%m-%d\"),\n",
    "            \"Metodo_Pago\": metodo_pago\n",
    "        })\n",
    "\n",
    "    # Convertir a DataFrames\n",
    "    facturacion = pd.DataFrame(facturacion_data)\n",
    "    detalle_venta = pd.DataFrame(detalle_venta_data)\n",
    "\n",
    "    # Guardar en nuevos archivos CSV\n",
    "    facturacion.to_csv(\"facturacion_generada.csv\", index=False)\n",
    "    detalle_venta.to_csv(\"detalle_venta_generada.csv\", index=False)\n",
    "\n",
    "    print(\"Datos generados y guardados en facturacion_generada.csv y detalle_venta_generada.csv.\")"
   ]
  }
 ],
 "metadata": {
  "kernelspec": {
   "display_name": "Python 3",
   "language": "python",
   "name": "python3"
  },
  "language_info": {
   "codemirror_mode": {
    "name": "ipython",
    "version": 3
   },
   "file_extension": ".py",
   "mimetype": "text/x-python",
   "name": "python",
   "nbconvert_exporter": "python",
   "pygments_lexer": "ipython3",
   "version": "3.10.2"
  }
 },
 "nbformat": 4,
 "nbformat_minor": 2
}
